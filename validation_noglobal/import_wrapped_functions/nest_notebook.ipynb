{
 "metadata": {
  "language_info": {
   "codemirror_mode": {
    "name": "ipython",
    "version": 3
   },
   "file_extension": ".py",
   "mimetype": "text/x-python",
   "name": "python",
   "nbconvert_exporter": "python",
   "pygments_lexer": "ipython3",
   "version": "3.7.7-final"
  },
  "orig_nbformat": 2,
  "kernelspec": {
   "name": "python3",
   "display_name": "Python 3.7.7 64-bit",
   "metadata": {
    "interpreter": {
     "hash": "9b2fa0a515a9a22f0d1310b08cea60f6eff971ea6e2d4e893dc33b897ec6aace"
    }
   }
  }
 },
 "nbformat": 4,
 "nbformat_minor": 2,
 "cells": [
  {
   "source": [
    "# Import noglobal decorators"
   ],
   "cell_type": "markdown",
   "metadata": {}
  },
  {
   "source": [
    "All functions will be declared in same notebook and nested, then what is the behavior of them??"
   ],
   "cell_type": "markdown",
   "metadata": {}
  },
  {
   "cell_type": "code",
   "execution_count": 1,
   "metadata": {},
   "outputs": [],
   "source": [
    "from noglobal_ver4_5 import no_global_variable_decorator, noglobal5_2\n",
    "noglobal4 = no_global_variable_decorator(ver=4, globals_=globals())\n",
    "noglobal5 = no_global_variable_decorator(ver=5, globals_=globals())"
   ]
  },
  {
   "cell_type": "code",
   "execution_count": 2,
   "metadata": {},
   "outputs": [],
   "source": [
    "val_global = \"This is a global variable\""
   ]
  },
  {
   "cell_type": "code",
   "execution_count": 3,
   "metadata": {},
   "outputs": [],
   "source": [
    "def run_function(func):\n",
    "    try:\n",
    "        func()\n",
    "    except NameError as ne:\n",
    "        print(f\"got NameError with {func.__name__}; \")\n",
    "        print('\\t', ne)\n",
    "    except TypeError as te: # noglobal::ver03 でのみ発生\n",
    "        print(f\"got TypeError with {func.__name__}; \")\n",
    "        print('\\t', te)\n",
    "    print() # blank row\n",
    "    return None"
   ]
  },
  {
   "cell_type": "code",
   "execution_count": 4,
   "metadata": {},
   "outputs": [],
   "source": [
    "@noglobal4()\n",
    "def nest_script01_import_func4():\n",
    "    print(\"This is nest_script01_import_func4 at script wrapped by `noglobal4`\")\n",
    "    print(val_global)\n",
    "\n",
    "@noglobal5()\n",
    "def nest_script01_import_func5():\n",
    "    print(\"This is nest_script01_import_func5 at script wrapped by `noglobal5`\")\n",
    "    print(val_global)\n",
    "\n",
    "@noglobal5_2()\n",
    "def nest_script01_import_func5_2():\n",
    "    print(\"This is nest_script01_import_func5_2 at script wrapped by `noglobal5_2`\")\n",
    "    print(val_global)"
   ]
  },
  {
   "cell_type": "code",
   "execution_count": 5,
   "metadata": {},
   "outputs": [
    {
     "output_type": "stream",
     "name": "stdout",
     "text": [
      "This is nest_script01_import_func4 at script wrapped by `noglobal4`\ngot NameError with nest_script01_import_func4; \n\t name 'val_global' is not defined\n\nThis is nest_script01_import_func5 at script wrapped by `noglobal5`\ngot NameError with nest_script01_import_func5; \n\t name 'val_global' is not defined\n\nThis is nest_script01_import_func5_2 at script wrapped by `noglobal5_2`\ngot NameError with nest_script01_import_func5_2; \n\t name 'val_global' is not defined\n\n"
     ]
    }
   ],
   "source": [
    "run_function(nest_script01_import_func4)\n",
    "run_function(nest_script01_import_func5)\n",
    "run_function(nest_script01_import_func5_2)"
   ]
  },
  {
   "cell_type": "code",
   "execution_count": 6,
   "metadata": {},
   "outputs": [],
   "source": [
    "@noglobal4(excepts=[\"val_global\"])\n",
    "def nest_script02_import_func4():\n",
    "    print(\"This is nest_script02_import_func4 at script wrapped by `noglobal4`\")\n",
    "    print(val_global)\n",
    "    nest_script01_import_func4() # could not recognize `val_global` for all that \n",
    "                                 # the excepts were given with func_02\n",
    "\n",
    "@noglobal5(excepts=[\"val_global\"])\n",
    "def nest_script02_import_func5():\n",
    "    print(\"This is nest_script02_import_func5 at script wrapped by `noglobal5`\")\n",
    "    print(val_global)\n",
    "    nest_script01_import_func5() # could not recognize `val_global` for all that \n",
    "                                 # the excepts were given with func_02\n",
    "\n",
    "@noglobal5_2(excepts=[\"val_global\"])\n",
    "def nest_script02_import_func5_2():\n",
    "    print(\"This is nest_script02_import_func5_2 at script wrapped by `noglobal5_2`\")\n",
    "    print(val_global)\n",
    "    nest_script01_import_func5_2() # could not recognize `val_global` for all that \n",
    "                                   # the excepts were given with func_02"
   ]
  },
  {
   "cell_type": "code",
   "execution_count": 7,
   "metadata": {},
   "outputs": [
    {
     "output_type": "stream",
     "name": "stdout",
     "text": [
      "This is nest_script01_import_func4 at script wrapped by `noglobal4`\ngot NameError with nest_script01_import_func4; \n\t name 'val_global' is not defined\n\nThis is nest_script01_import_func5 at script wrapped by `noglobal5`\ngot NameError with nest_script01_import_func5; \n\t name 'val_global' is not defined\n\nThis is nest_script01_import_func5_2 at script wrapped by `noglobal5_2`\ngot NameError with nest_script01_import_func5_2; \n\t name 'val_global' is not defined\n\nThis is nest_script02_import_func4 at script wrapped by `noglobal4`\nThis is a global variable\nThis is nest_script01_import_func4 at script wrapped by `noglobal4`\ngot NameError with nest_script02_import_func4; \n\t name 'val_global' is not defined\n\nThis is nest_script02_import_func5 at script wrapped by `noglobal5`\nThis is a global variable\nThis is nest_script01_import_func5 at script wrapped by `noglobal5`\ngot NameError with nest_script02_import_func5; \n\t name 'val_global' is not defined\n\nThis is nest_script02_import_func5_2 at script wrapped by `noglobal5_2`\nThis is a global variable\nThis is nest_script01_import_func5_2 at script wrapped by `noglobal5_2`\ngot NameError with nest_script02_import_func5_2; \n\t name 'val_global' is not defined\n\n"
     ]
    }
   ],
   "source": [
    "run_function(nest_script01_import_func4)\n",
    "run_function(nest_script01_import_func5)\n",
    "run_function(nest_script01_import_func5_2)\n",
    "run_function(nest_script02_import_func4)\n",
    "run_function(nest_script02_import_func5)\n",
    "run_function(nest_script02_import_func5_2)"
   ]
  }
 ]
}